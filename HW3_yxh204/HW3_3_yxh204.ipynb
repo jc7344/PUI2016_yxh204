{
 "cells": [
  {
   "cell_type": "markdown",
   "metadata": {},
   "source": [
    "# Homework 3\n",
    "\n",
    "*Name: Yuxuan Han*\n",
    "\n",
    "*Net ID: yxh204*\n",
    "\n",
    "---"
   ]
  },
  {
   "cell_type": "code",
   "execution_count": 3,
   "metadata": {
    "collapsed": true
   },
   "outputs": [],
   "source": [
    "import numpy as np\n",
    "import pandas as pd\n",
    "from scipy import stats"
   ]
  },
  {
   "cell_type": "code",
   "execution_count": 4,
   "metadata": {
    "collapsed": true
   },
   "outputs": [],
   "source": [
    "data = pd.read_csv(\"https://raw.github.com/kevinhan0/PUI2016_fb55/master/Lab3_fb55/times.txt\", header = None)\n",
    "data.columns = [\"Time\"]"
   ]
  },
  {
   "cell_type": "markdown",
   "metadata": {},
   "source": [
    "---"
   ]
  },
  {
   "cell_type": "markdown",
   "metadata": {},
   "source": [
    "### Question 3\n",
    "\n",
    "A new bus route for line X8 is implemented. MTA wants to know if it improves commute time (travel time at peak hours).\n",
    "\n",
    "They know what the mean travel time used to be, and measure the new travel time 100 times. Given $T\\sim N(\\mu=36, \\sigma=6)$, is the new bus route improving commute?"
   ]
  },
  {
   "cell_type": "markdown",
   "metadata": {},
   "source": [
    "Let $H_0$ be the null hypothesis that the average commute time during peak hours stays the same before and after the implementation of the new bus route, and let $H_1$ be the alternative hypothesis that the average commute time during peak hours has improved after the implementation of the new bus route, that is,"
   ]
  },
  {
   "cell_type": "markdown",
   "metadata": {},
   "source": [
    "$H_0: \\mu \\leq 36$\n",
    "\n",
    "$H_a: \\mu > 36$"
   ]
  },
  {
   "cell_type": "markdown",
   "metadata": {},
   "source": [
    "We test our hypothesis using the Z-test for mean, $Z = \\dfrac{\\bar{x}-\\mu_0}{\\sigma/\\sqrt N}$, at a significance level of $\\alpha=0.05$."
   ]
  },
  {
   "cell_type": "code",
   "execution_count": 9,
   "metadata": {
    "collapsed": true
   },
   "outputs": [],
   "source": [
    "mu_0 = 36; sigma = 6\n",
    "x_bar = np.mean(data.Time)\n",
    "n = len(data.Time)"
   ]
  },
  {
   "cell_type": "code",
   "execution_count": 17,
   "metadata": {
    "collapsed": false
   },
   "outputs": [],
   "source": [
    "t_stat = (x_bar - mu_0)/(sigma/np.sqrt(n))"
   ]
  },
  {
   "cell_type": "code",
   "execution_count": 18,
   "metadata": {
    "collapsed": false
   },
   "outputs": [
    {
     "name": "stdout",
     "output_type": "stream",
     "text": [
      "z-statistic = -2.556 p-value = 0.0053\n"
     ]
    }
   ],
   "source": [
    "pval = stats.norm.sf(np.abs(t_stat))\n",
    "print('z-statistic = %6.3f p-value = %6.4f' % (t_stat, pval))"
   ]
  },
  {
   "cell_type": "markdown",
   "metadata": {},
   "source": [
    "Since $p=0.0053<\\alpha=0.04$, we reject the null hypothesis and accept the alternative hypothesis that the average commute time during peak hours has improved after the implementation of the new bus route."
   ]
  },
  {
   "cell_type": "markdown",
   "metadata": {},
   "source": [
    "---"
   ]
  }
 ],
 "metadata": {
  "kernelspec": {
   "display_name": "Python 3",
   "language": "python",
   "name": "python3"
  },
  "language_info": {
   "codemirror_mode": {
    "name": "ipython",
    "version": 3
   },
   "file_extension": ".py",
   "mimetype": "text/x-python",
   "name": "python",
   "nbconvert_exporter": "python",
   "pygments_lexer": "ipython3",
   "version": "3.5.1"
  }
 },
 "nbformat": 4,
 "nbformat_minor": 0
}
